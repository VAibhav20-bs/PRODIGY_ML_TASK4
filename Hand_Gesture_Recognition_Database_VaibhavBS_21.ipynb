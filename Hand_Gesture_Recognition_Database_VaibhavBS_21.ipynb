{
  "metadata": {
    "kernelspec": {
      "language": "python",
      "display_name": "Python 3",
      "name": "python3"
    },
    "language_info": {
      "name": "python",
      "version": "3.10.13",
      "mimetype": "text/x-python",
      "codemirror_mode": {
        "name": "ipython",
        "version": 3
      },
      "pygments_lexer": "ipython3",
      "nbconvert_exporter": "python",
      "file_extension": ".py"
    },
    "kaggle": {
      "accelerator": "none",
      "dataSources": [
        {
          "sourceId": 61155,
          "sourceType": "datasetVersion",
          "datasetId": 39466
        }
      ],
      "dockerImageVersionId": 30673,
      "isInternetEnabled": true,
      "language": "python",
      "sourceType": "notebook",
      "isGpuEnabled": false
    },
    "colab": {
      "name": "Hand Gesture Recognition Database  VaibhavBS@21",
      "provenance": []
    }
  },
  "nbformat_minor": 0,
  "nbformat": 4,
  "cells": [
    {
      "source": [
        "\n",
        "# IMPORTANT: RUN THIS CELL IN ORDER TO IMPORT YOUR KAGGLE DATA SOURCES\n",
        "# TO THE CORRECT LOCATION (/kaggle/input) IN YOUR NOTEBOOK,\n",
        "# THEN FEEL FREE TO DELETE THIS CELL.\n",
        "# NOTE: THIS NOTEBOOK ENVIRONMENT DIFFERS FROM KAGGLE'S PYTHON\n",
        "# ENVIRONMENT SO THERE MAY BE MISSING LIBRARIES USED BY YOUR\n",
        "# NOTEBOOK.\n",
        "\n",
        "import os\n",
        "import sys\n",
        "from tempfile import NamedTemporaryFile\n",
        "from urllib.request import urlopen\n",
        "from urllib.parse import unquote, urlparse\n",
        "from urllib.error import HTTPError\n",
        "from zipfile import ZipFile\n",
        "import tarfile\n",
        "import shutil\n",
        "\n",
        "CHUNK_SIZE = 40960\n",
        "DATA_SOURCE_MAPPING = 'leapgestrecog:https%3A%2F%2Fstorage.googleapis.com%2Fkaggle-data-sets%2F39466%2F61155%2Fbundle%2Farchive.zip%3FX-Goog-Algorithm%3DGOOG4-RSA-SHA256%26X-Goog-Credential%3Dgcp-kaggle-com%2540kaggle-161607.iam.gserviceaccount.com%252F20240726%252Fauto%252Fstorage%252Fgoog4_request%26X-Goog-Date%3D20240726T162329Z%26X-Goog-Expires%3D259200%26X-Goog-SignedHeaders%3Dhost%26X-Goog-Signature%3D40b2c6c8ef7742639d2a20e6d87f0f1a5ab3279e5906b972a5047cd9c83ca14f6c78772400d0eb196a308f82d2a2acaca28dd45fee099f03e35bd32c276cf8a38b8ff1689a0ed9b3a188f457a22ed8bdacbabce46abba381c3fd18a1c9b1bf76522cb2cc3e769e0f0a4531519c671292b47cbdea0bee50fe6866ac3b9f7d070158b95812e6bc9daf3bef14e4927c9ea52007e04173076a20c033b6d5c6f281a18d287024c5ccff703dfb8f970c815ca7a0e79582a84e2a30756a2b49e68fa052125f44a4bb1dd533cc4ae23425aeb34614a173f0f3df17bb52ea0827e842513d73200d44a31f95b7f6ac44232d896fabbd5339fdf5171c0d7f00479c53a86488'\n",
        "\n",
        "KAGGLE_INPUT_PATH='/kaggle/input'\n",
        "KAGGLE_WORKING_PATH='/kaggle/working'\n",
        "KAGGLE_SYMLINK='kaggle'\n",
        "\n",
        "!umount /kaggle/input/ 2> /dev/null\n",
        "shutil.rmtree('/kaggle/input', ignore_errors=True)\n",
        "os.makedirs(KAGGLE_INPUT_PATH, 0o777, exist_ok=True)\n",
        "os.makedirs(KAGGLE_WORKING_PATH, 0o777, exist_ok=True)\n",
        "\n",
        "try:\n",
        "  os.symlink(KAGGLE_INPUT_PATH, os.path.join(\"..\", 'input'), target_is_directory=True)\n",
        "except FileExistsError:\n",
        "  pass\n",
        "try:\n",
        "  os.symlink(KAGGLE_WORKING_PATH, os.path.join(\"..\", 'working'), target_is_directory=True)\n",
        "except FileExistsError:\n",
        "  pass\n",
        "\n",
        "for data_source_mapping in DATA_SOURCE_MAPPING.split(','):\n",
        "    directory, download_url_encoded = data_source_mapping.split(':')\n",
        "    download_url = unquote(download_url_encoded)\n",
        "    filename = urlparse(download_url).path\n",
        "    destination_path = os.path.join(KAGGLE_INPUT_PATH, directory)\n",
        "    try:\n",
        "        with urlopen(download_url) as fileres, NamedTemporaryFile() as tfile:\n",
        "            total_length = fileres.headers['content-length']\n",
        "            print(f'Downloading {directory}, {total_length} bytes compressed')\n",
        "            dl = 0\n",
        "            data = fileres.read(CHUNK_SIZE)\n",
        "            while len(data) > 0:\n",
        "                dl += len(data)\n",
        "                tfile.write(data)\n",
        "                done = int(50 * dl / int(total_length))\n",
        "                sys.stdout.write(f\"\\r[{'=' * done}{' ' * (50-done)}] {dl} bytes downloaded\")\n",
        "                sys.stdout.flush()\n",
        "                data = fileres.read(CHUNK_SIZE)\n",
        "            if filename.endswith('.zip'):\n",
        "              with ZipFile(tfile) as zfile:\n",
        "                zfile.extractall(destination_path)\n",
        "            else:\n",
        "              with tarfile.open(tfile.name) as tarfile:\n",
        "                tarfile.extractall(destination_path)\n",
        "            print(f'\\nDownloaded and uncompressed: {directory}')\n",
        "    except HTTPError as e:\n",
        "        print(f'Failed to load (likely expired) {download_url} to path {destination_path}')\n",
        "        continue\n",
        "    except OSError as e:\n",
        "        print(f'Failed to load {download_url} to path {destination_path}')\n",
        "        continue\n",
        "\n",
        "print('Data source import complete.')\n"
      ],
      "metadata": {
        "id": "9jyZBTiW2s5N"
      },
      "cell_type": "code",
      "outputs": [],
      "execution_count": null
    },
    {
      "cell_type": "markdown",
      "source": [
        "<a id=\"Section 1:Import Necessary Libraries:\"></a>\n",
        "# Import Necessary Libraries"
      ],
      "metadata": {
        "id": "OODcbj_D2s5P"
      }
    },
    {
      "cell_type": "code",
      "source": [
        "import os\n",
        "import numpy as np # linear algebra\n",
        "import pandas as pd # data processing, CSV file I/O (e.g. pd.read_csv)\n",
        "import matplotlib.pyplot as plt #for different plot\n",
        "from sklearn.preprocessing import OneHotEncoder #for data preprocessing\n",
        "from sklearn.preprocessing import StandardScaler #for scaling data\n",
        "from sklearn.model_selection import train_test_split\n",
        "#for data preprocessing using keras\n",
        "from keras.preprocessing.image import array_to_img, img_to_array, load_img\n",
        "import tensorflow as tf\n",
        "from tensorflow.keras.preprocessing.image import ImageDataGenerator\n",
        "# keras classes required for building deep CNN model\n",
        "from keras.models import Sequential, save_model, load_model\n",
        "from keras.layers import Dense, Conv2D, MaxPooling2D, Flatten, Activation, Dropout\n",
        "from keras.utils import plot_model\n",
        "import plotly.express as px\n",
        "from plotly.subplots import make_subplots\n",
        "import plotly.graph_objects as go\n",
        "import plotly.figure_factory as ff\n",
        "\n",
        "\n"
      ],
      "metadata": {
        "execution": {
          "iopub.status.busy": "2024-07-18T07:04:26.425512Z",
          "iopub.execute_input": "2024-07-18T07:04:26.426256Z",
          "iopub.status.idle": "2024-07-18T07:04:31.902319Z",
          "shell.execute_reply.started": "2024-07-18T07:04:26.426218Z",
          "shell.execute_reply": "2024-07-18T07:04:31.9011Z"
        },
        "trusted": true,
        "id": "_XfDAxfm2s5R"
      },
      "execution_count": null,
      "outputs": []
    },
    {
      "cell_type": "markdown",
      "source": [
        "<a id=\"Section 1:read dataset including folders, subfolders, and images :\"></a>\n",
        "# Read Images and Labels in the Dataset  \n",
        "\n"
      ],
      "metadata": {
        "id": "dWwdgzcR2s5S"
      }
    },
    {
      "cell_type": "code",
      "source": [
        "images=[]\n",
        "labels=[]\n",
        "\n",
        "# oop over top 10 folders\n",
        "for directory in os.listdir('/kaggle/input/leapgestrecog/leapGestRecog/'):\n",
        "    for subdir in os.listdir(os.path.join('/kaggle/input/leapgestrecog/leapGestRecog/',directory)):\n",
        "#         if directory=='01':\n",
        "#             labels.append(subdir)\n",
        "        for image in os.listdir(os.path.join('/kaggle/input/leapgestrecog/leapGestRecog/',directory, subdir)):\n",
        "            img_path = os.path.join('/kaggle/input/leapgestrecog/leapGestRecog/', directory, subdir, image)\n",
        "            images.append(img_path)\n",
        "            labels.append(subdir)\n",
        "\n",
        "\n",
        "# print(labels)"
      ],
      "metadata": {
        "execution": {
          "iopub.status.busy": "2024-07-18T07:04:34.51601Z",
          "iopub.execute_input": "2024-07-18T07:04:34.516859Z",
          "iopub.status.idle": "2024-07-18T07:04:34.683754Z",
          "shell.execute_reply.started": "2024-07-18T07:04:34.516791Z",
          "shell.execute_reply": "2024-07-18T07:04:34.682224Z"
        },
        "trusted": true,
        "id": "kEjOYUv72s5S"
      },
      "execution_count": null,
      "outputs": []
    },
    {
      "cell_type": "markdown",
      "source": [
        "<a id=\"Section 1:Create DataFrame for Images&Labels:\"></a>\n",
        "# Read Images and Labels in the Dataset  "
      ],
      "metadata": {
        "id": "ofd-wRrz2s5S"
      }
    },
    {
      "cell_type": "code",
      "source": [
        "#include both image path and labels into dataframe\n",
        "df = pd.DataFrame({'Image':images,'Label':labels})\n",
        "df.tail()\n",
        "# df.info()\n"
      ],
      "metadata": {
        "execution": {
          "iopub.status.busy": "2024-07-18T07:04:38.630154Z",
          "iopub.execute_input": "2024-07-18T07:04:38.63128Z",
          "iopub.status.idle": "2024-07-18T07:04:38.651755Z",
          "shell.execute_reply.started": "2024-07-18T07:04:38.631224Z",
          "shell.execute_reply": "2024-07-18T07:04:38.650623Z"
        },
        "trusted": true,
        "id": "ITgcuQcy2s5T"
      },
      "execution_count": null,
      "outputs": []
    },
    {
      "cell_type": "markdown",
      "source": [
        "<a id=\"Section 1:Randomly Display some labeled images from the dataset:\"></a>\n",
        "# Randomly Display some labeled images from the dataset"
      ],
      "metadata": {
        "id": "jzYXSvMU2s5T"
      }
    },
    {
      "cell_type": "code",
      "source": [
        "\n",
        "df_img = df['Image']\n",
        "df_label = df['Label']\n",
        "\n",
        "nrows=2\n",
        "ncols = 5\n",
        "fig,axx = plt.subplots(nrows,ncols, figsize=(12,12))\n",
        "fig.suptitle(\"Random Hand Getures Images\")\n",
        "print(axx)\n",
        "# axx = axx.ravel()\n",
        "for i in range(nrows):\n",
        "        for j in range(ncols):\n",
        "                n = np.random.randint(0,20000)\n",
        "                img = load_img(df['Image'][n],target_size=(150,150)) #this is a PIL image\n",
        "                img = img_to_array(img) #this is a numpy array with shape (3,150,150)\n",
        "                img = np.expand_dims(img,axis=0) #expand image dimention to (1,3,255,255)\n",
        "                img /= 255.0 #scale image values between 0,1\n",
        "                label = df_label[n]\n",
        "                #changing size from (1,150,150,3) into (150,150,3)\n",
        "                image = np.squeeze(img)\n",
        "                axx[i][j].imshow(image)\n",
        "                axx[i][j].set_title(label)\n",
        "plt.show()\n",
        "plt.close()\n"
      ],
      "metadata": {
        "execution": {
          "iopub.status.busy": "2024-07-18T07:04:42.155061Z",
          "iopub.execute_input": "2024-07-18T07:04:42.155557Z",
          "iopub.status.idle": "2024-07-18T07:04:43.82207Z",
          "shell.execute_reply.started": "2024-07-18T07:04:42.155524Z",
          "shell.execute_reply": "2024-07-18T07:04:43.820804Z"
        },
        "trusted": true,
        "id": "auS6ruVs2s5T"
      },
      "execution_count": null,
      "outputs": []
    },
    {
      "cell_type": "markdown",
      "source": [
        "<a id=\"Split Dataset into 80% for training 15%,15% for validation and testing:\"></a>\n",
        "# Split Dataset into 70% for training 15%,15% for validation and testing"
      ],
      "metadata": {
        "id": "EsEv3KWj2s5U"
      }
    },
    {
      "cell_type": "code",
      "source": [
        "x_train,x = train_test_split(df, test_size = 0.3)\n",
        "# train_x, test_x, train_y, test_y = train_test_split(images,labels,test_size=0.2)\n",
        "x_valid,x_test = train_test_split(x,test_size=0.5)\n",
        "x_train.info()\n",
        "x_valid.info()\n",
        "x_test.info()\n"
      ],
      "metadata": {
        "execution": {
          "iopub.status.busy": "2024-07-18T07:05:00.725588Z",
          "iopub.execute_input": "2024-07-18T07:05:00.726015Z",
          "iopub.status.idle": "2024-07-18T07:05:00.761341Z",
          "shell.execute_reply.started": "2024-07-18T07:05:00.725981Z",
          "shell.execute_reply": "2024-07-18T07:05:00.75995Z"
        },
        "trusted": true,
        "id": "2zgLaSF-2s5U"
      },
      "execution_count": null,
      "outputs": []
    },
    {
      "cell_type": "markdown",
      "source": [
        "<a id=\"Data Augmentation:\"></a>\n",
        "# Data Augmentation"
      ],
      "metadata": {
        "id": "VFLh0eqN2s5U"
      }
    },
    {
      "cell_type": "code",
      "source": [
        "#data augmentation\n",
        "datagen = ImageDataGenerator(\n",
        "        rotation_range=10, # rotation\n",
        "        width_shift_range=0.2, # horizontal shift\n",
        "        height_shift_range=0.2, # vertical shift\n",
        "        zoom_range=0.2, # zoom\n",
        "        horizontal_flip=True, # horizontal flip\n",
        "        brightness_range=[0.2,1.2]) # brightness\n",
        "\n",
        "\n",
        "train_datagen = ImageDataGenerator(rescale=1.0/255,\n",
        "                                 shear_range=0.2,\n",
        "                                 zoom_range=0.2,\n",
        "                                 horizontal_flip=True)\n",
        "validate_datagen = ImageDataGenerator(rescale=1.0/255)"
      ],
      "metadata": {
        "execution": {
          "iopub.status.busy": "2024-07-18T07:05:05.29031Z",
          "iopub.execute_input": "2024-07-18T07:05:05.290737Z",
          "iopub.status.idle": "2024-07-18T07:05:05.298451Z",
          "shell.execute_reply.started": "2024-07-18T07:05:05.290704Z",
          "shell.execute_reply": "2024-07-18T07:05:05.297133Z"
        },
        "trusted": true,
        "id": "N1a0WTDj2s5U"
      },
      "execution_count": null,
      "outputs": []
    },
    {
      "cell_type": "code",
      "source": [
        "b_size =1\n",
        "train_generator = train_datagen.flow_from_dataframe(dataframe=x_train,x_col=\"Image\",y_col='Label',class_mode=\"categorical\",target_size=(150,150),batch_size=b_size,seed=2020, shuffle=True)\n",
        "valid_generator = validate_datagen.flow_from_dataframe(dataframe=x_valid,x_col=\"Image\",y_col='Label',class_mode=\"categorical\",target_size=(150,150),batch_size=b_size,seed=2020, shuffle=False)\n"
      ],
      "metadata": {
        "execution": {
          "iopub.status.busy": "2024-07-18T07:05:09.915878Z",
          "iopub.execute_input": "2024-07-18T07:05:09.916844Z",
          "iopub.status.idle": "2024-07-18T07:05:18.480772Z",
          "shell.execute_reply.started": "2024-07-18T07:05:09.916801Z",
          "shell.execute_reply": "2024-07-18T07:05:18.479579Z"
        },
        "trusted": true,
        "id": "hRA5a2mz2s5U"
      },
      "execution_count": null,
      "outputs": []
    },
    {
      "cell_type": "code",
      "source": [
        "#plot some augmented images\n",
        "fig,axx = plt.subplots(nrows=1,ncols=4, figsize=(15,15))\n",
        "\n",
        "for i in range(4):\n",
        "    #convert into unsigned integers for plotting\n",
        "    image = next(train_generator)[0].astype('float64')\n",
        "    #changing size from (1,150,150,3) into (150,150,3)\n",
        "    image = np.squeeze(image)\n",
        "    #plot row pixel data\n",
        "    axx[i].imshow(image)\n",
        "    axx[i].axis('off')\n",
        "\n"
      ],
      "metadata": {
        "execution": {
          "iopub.status.busy": "2024-07-18T07:05:20.345148Z",
          "iopub.execute_input": "2024-07-18T07:05:20.345577Z",
          "iopub.status.idle": "2024-07-18T07:05:20.77506Z",
          "shell.execute_reply.started": "2024-07-18T07:05:20.345545Z",
          "shell.execute_reply": "2024-07-18T07:05:20.77399Z"
        },
        "trusted": true,
        "id": "ONL235wT2s5V"
      },
      "execution_count": null,
      "outputs": []
    },
    {
      "cell_type": "code",
      "source": [
        "# #[3]:\n",
        "\n",
        "# images list & labels list\n",
        "# images = []\n",
        "# labels = []\n",
        "\n",
        "# image = df['Image']\n",
        "# img = load_img(image[i],target_size=(150,150)) #this is a PIL image\n",
        "\n",
        "# for i in range(len(df)):\n",
        "#     img = load_img(image[i])\n",
        "#     x = img_to_array(img) #this is a numpy array with shape (3,150,150)\n",
        "# #     x = np.expand_dims(x,axis=0) #expand image dimention to (1,3,255,255)\n",
        "# #     x /= 255.0 #scale image values between 0,1\n",
        "#     images.append(x)\n",
        "#     label = df_label[i]\n",
        "#     labels.append(label)\n",
        "\n",
        "\n"
      ],
      "metadata": {
        "execution": {
          "iopub.status.busy": "2024-07-18T07:05:27.165613Z",
          "iopub.execute_input": "2024-07-18T07:05:27.166014Z",
          "iopub.status.idle": "2024-07-18T07:05:27.172222Z",
          "shell.execute_reply.started": "2024-07-18T07:05:27.165984Z",
          "shell.execute_reply": "2024-07-18T07:05:27.170867Z"
        },
        "trusted": true,
        "id": "fMxFmJqS2s5V"
      },
      "execution_count": null,
      "outputs": []
    },
    {
      "cell_type": "markdown",
      "source": [
        "<a id=\"Build Convolutional Neural Network Model (CNN):\"></a>\n",
        "# Build Convolutional Neural Network Model (CNN)"
      ],
      "metadata": {
        "id": "YhoFj2cC2s5V"
      }
    },
    {
      "cell_type": "code",
      "source": [
        "#Build Convolutional Neural Network Model (CNN)¶\n",
        "\n",
        "#3 Cov2D layers with Relu activation functions followed by max-pooling layers that ouput 3D feature maps\n",
        "model = Sequential()\n",
        "model.add(Conv2D(32,(3,3), input_shape=(150,150,3)))\n",
        "model.add(Activation('relu'))\n",
        "model.add(MaxPooling2D(pool_size=(2,2)))\n",
        "\n",
        "model.add(Conv2D(32,(3,3)))\n",
        "model.add(Activation('relu'))\n",
        "model.add(MaxPooling2D(pool_size=(2,2)))\n",
        "\n",
        "model.add(Conv2D(64,(3,3)))\n",
        "model.add(Activation('relu'))\n",
        "model.add(MaxPooling2D(pool_size=(2,2)))\n",
        "\n",
        "# on top of the model we add 2 fully connected layers to flatten the 3D feature maps into 10 feature victors representing 10 differnet categories of hanf geatures\n",
        "model.add(Flatten())\n",
        "model.add(Dense(64))\n",
        "model.add(Activation('relu'))\n",
        "model.add(Dropout(0.2))\n",
        "model.add(Dense(10))\n",
        "model.add(Activation('softmax'))\n",
        "\n",
        "model.compile(loss=tf.keras.losses.CategoricalCrossentropy(from_logits=False),\n",
        "             optimizer = 'adam',\n",
        "             metrics=[tf.keras.metrics.CategoricalAccuracy()])\n",
        "model.summary()\n"
      ],
      "metadata": {
        "execution": {
          "iopub.status.busy": "2024-07-18T07:05:29.695524Z",
          "iopub.execute_input": "2024-07-18T07:05:29.695914Z",
          "iopub.status.idle": "2024-07-18T07:05:29.959663Z",
          "shell.execute_reply.started": "2024-07-18T07:05:29.695879Z",
          "shell.execute_reply": "2024-07-18T07:05:29.958418Z"
        },
        "trusted": true,
        "id": "-KGFJmIe2s5V"
      },
      "execution_count": null,
      "outputs": []
    },
    {
      "cell_type": "markdown",
      "source": [
        "<a id=\"Visualize Model:\"></a>\n",
        "# Visualize Model"
      ],
      "metadata": {
        "id": "Ep-WNL_82s5W"
      }
    },
    {
      "cell_type": "code",
      "source": [
        "# Visualize model\n",
        "plot_model(\n",
        "    model,\n",
        "    to_file=\"model.png\",\n",
        "    show_shapes=True,\n",
        "    show_dtype=True,\n",
        "    show_layer_names=True\n",
        ")\n"
      ],
      "metadata": {
        "execution": {
          "iopub.status.busy": "2024-07-18T07:05:32.620206Z",
          "iopub.execute_input": "2024-07-18T07:05:32.620644Z",
          "iopub.status.idle": "2024-07-18T07:05:33.291251Z",
          "shell.execute_reply.started": "2024-07-18T07:05:32.620612Z",
          "shell.execute_reply": "2024-07-18T07:05:33.290003Z"
        },
        "trusted": true,
        "id": "wgg-zsXw2s5W"
      },
      "execution_count": null,
      "outputs": []
    },
    {
      "cell_type": "markdown",
      "source": [
        "<a id=\"Train and save Model:\"></a>\n",
        "# Train and save Model"
      ],
      "metadata": {
        "id": "vHbnvvtY2s5W"
      }
    },
    {
      "cell_type": "code",
      "source": [
        "#train Test data in the model\n",
        "history = model.fit(train_generator,\n",
        "                   steps_per_epoch=100//b_size,\n",
        "                   epochs = 5,\n",
        "                   validation_data = valid_generator,\n",
        "                    validation_steps=800//b_size)\n",
        "\n",
        "model.save('handG_R.h5')"
      ],
      "metadata": {
        "execution": {
          "iopub.status.busy": "2024-07-18T07:05:43.89559Z",
          "iopub.execute_input": "2024-07-18T07:05:43.896177Z",
          "iopub.status.idle": "2024-07-18T07:06:32.488151Z",
          "shell.execute_reply.started": "2024-07-18T07:05:43.896131Z",
          "shell.execute_reply": "2024-07-18T07:06:32.486978Z"
        },
        "trusted": true,
        "id": "r15uHVlJ2s5W"
      },
      "execution_count": null,
      "outputs": []
    },
    {
      "cell_type": "code",
      "source": [
        "# display loss & accuracy\n",
        "history.history"
      ],
      "metadata": {
        "execution": {
          "iopub.status.busy": "2024-07-18T07:06:36.390419Z",
          "iopub.execute_input": "2024-07-18T07:06:36.391297Z",
          "iopub.status.idle": "2024-07-18T07:06:36.398578Z",
          "shell.execute_reply.started": "2024-07-18T07:06:36.391238Z",
          "shell.execute_reply": "2024-07-18T07:06:36.397481Z"
        },
        "trusted": true,
        "id": "h5hCz8Pr2s5W"
      },
      "execution_count": null,
      "outputs": []
    },
    {
      "cell_type": "markdown",
      "source": [
        "<a id=\"Visualize training&validation loss:\"></a>\n",
        "# Visualize training&validation loss"
      ],
      "metadata": {
        "id": "R7TewNPh2s5W"
      }
    },
    {
      "cell_type": "code",
      "source": [
        "#visualize training loss & validation loss which indecates there is no overfitting\n",
        "fig = go.Figure()\n",
        "epochs = 5\n",
        "fig.add_trace(go.Scatter(x=np.arange(0,epochs,1),\n",
        "y=history.history['loss'],\n",
        "mode='lines',\n",
        "name=f'training loss',\n",
        "marker_size=3,\n",
        "line_color='blue'))\n",
        "fig.add_trace(go.Scatter(x=np.arange(0, epochs, 1),\n",
        "                         y=history.history['val_loss'],\n",
        "                         mode='lines',\n",
        "                         name=f'Validation loss',\n",
        "                         line_color='grey'))\n",
        "fig.update_layout(\n",
        "                  title=\"CNN training loss\",\n",
        "                  xaxis_title=\"Epochs\",\n",
        "                  yaxis_title=f\"CategoricalCrossentropy\")\n",
        "\n",
        "fig.update_layout({'plot_bgcolor': '#f2f8fd' ,\n",
        "                   'paper_bgcolor': 'white',},\n",
        "                   template='plotly_white')"
      ],
      "metadata": {
        "execution": {
          "iopub.status.busy": "2024-07-18T07:06:42.755711Z",
          "iopub.execute_input": "2024-07-18T07:06:42.756163Z",
          "iopub.status.idle": "2024-07-18T07:06:44.530014Z",
          "shell.execute_reply.started": "2024-07-18T07:06:42.756127Z",
          "shell.execute_reply": "2024-07-18T07:06:44.528755Z"
        },
        "trusted": true,
        "id": "A0tmexo72s5W"
      },
      "execution_count": null,
      "outputs": []
    },
    {
      "cell_type": "markdown",
      "source": [
        "<a id=\"Visualize training&validation accuracy:\"></a>\n",
        "# Visualize training&validation accuracy"
      ],
      "metadata": {
        "id": "2xnRquJH2s5X"
      }
    },
    {
      "cell_type": "code",
      "source": [
        "#visualize training accuracy & validation accuracy\n",
        "fig = go.Figure()\n",
        "epochs = 5\n",
        "fig.add_trace(go.Scatter(x=np.arange(0,epochs,1),\n",
        "y=history.history['categorical_accuracy'],\n",
        "mode='lines',\n",
        "name=f'training accuracy',\n",
        "marker_size=3,\n",
        "line_color='blue'))\n",
        "fig.add_trace(go.Scatter(x=np.arange(0, epochs, 1),\n",
        "                         y=history.history['val_categorical_accuracy'],\n",
        "                         mode='lines',\n",
        "                         name=f'Validation accuracy',\n",
        "                         line_color='grey'))\n",
        "fig.update_layout(\n",
        "                  title=\"CNN training accuracy\",\n",
        "                  xaxis_title=\"Epochs\",\n",
        "                  yaxis_title=f\"CategoricalCrossentropy\")\n",
        "\n",
        "fig.update_layout({'plot_bgcolor': '#f2f8fd' ,\n",
        "                   'paper_bgcolor': 'white',},\n",
        "                   template='plotly_white')"
      ],
      "metadata": {
        "execution": {
          "iopub.status.busy": "2024-07-18T07:06:50.215693Z",
          "iopub.execute_input": "2024-07-18T07:06:50.216148Z",
          "iopub.status.idle": "2024-07-18T07:06:50.272081Z",
          "shell.execute_reply.started": "2024-07-18T07:06:50.216114Z",
          "shell.execute_reply": "2024-07-18T07:06:50.271005Z"
        },
        "trusted": true,
        "id": "X2lNwCoS2s5X"
      },
      "execution_count": null,
      "outputs": []
    },
    {
      "cell_type": "markdown",
      "source": [
        "<a id=\"Train Model:\"></a>\n",
        "# Test Model to new data"
      ],
      "metadata": {
        "id": "uLvkoMqn2s5X"
      }
    },
    {
      "cell_type": "code",
      "source": [
        "x_test.info()\n",
        "x_test.tail(8)\n",
        "samples= x_test.sample(n=5)\n"
      ],
      "metadata": {
        "execution": {
          "iopub.status.busy": "2024-07-18T07:06:54.034945Z",
          "iopub.execute_input": "2024-07-18T07:06:54.035385Z",
          "iopub.status.idle": "2024-07-18T07:06:54.049506Z",
          "shell.execute_reply.started": "2024-07-18T07:06:54.03535Z",
          "shell.execute_reply": "2024-07-18T07:06:54.048344Z"
        },
        "trusted": true,
        "id": "1mkGtKhP2s5X"
      },
      "execution_count": null,
      "outputs": []
    },
    {
      "cell_type": "code",
      "source": [
        "model = load_model('./handG_R.h5',compile=True)\n"
      ],
      "metadata": {
        "execution": {
          "iopub.status.busy": "2024-07-18T07:07:12.760427Z",
          "iopub.execute_input": "2024-07-18T07:07:12.760838Z",
          "iopub.status.idle": "2024-07-18T07:07:12.955963Z",
          "shell.execute_reply.started": "2024-07-18T07:07:12.760802Z",
          "shell.execute_reply": "2024-07-18T07:07:12.954651Z"
        },
        "trusted": true,
        "id": "dtJ7kf582s5X"
      },
      "execution_count": null,
      "outputs": []
    },
    {
      "cell_type": "code",
      "source": [],
      "metadata": {
        "id": "jsbUaD6n2s5X"
      },
      "execution_count": null,
      "outputs": []
    }
  ]
}